{
 "cells": [
  {
   "attachments": {},
   "cell_type": "markdown",
   "metadata": {},
   "source": [
    "# STROKE PREDICTION MODEL\n",
    "\n",
    "In this model, I will create a model that can be used to predict whether an individual has stroke.\n",
    "\n",
    "This model will also incorporate feature selection using wrappers:\n",
    "1. Sequential Forward Search(SFS)\n",
    "2. Backward Elimination.(BE)\n",
    "\n",
    "I will use the `mlxtend` library alonside ` sklearn` for this exercise. The `sklearn` library does not provide comprehensive Wrapper feature selection\n",
    "\n",
    "`In this exercise I will not perform EDA as I had already perfomed it in another notebook.`\n",
    "## 1. IMPORTING THE LIBRARIES."
   ]
  },
  {
   "cell_type": "code",
   "execution_count": 1,
   "metadata": {},
   "outputs": [],
   "source": [
    "import pandas as pd\n",
    "import numpy as np\n",
    "import matplotlib.pyplot as plt\n",
    "import seaborn as sns\n",
    "\n",
    "from sklearn.neighbors import KNeighborsClassifier\n",
    "from mlxtend.feature_selection import SequentialFeatureSelector as sfs\n",
    "from sklearn.model_selection import train_test_split\n",
    "from sklearn.metrics import accuracy_score, classification_report\n",
    "from sklearn.model_selection import cross_val_score\n",
    "from sklearn.preprocessing import MinMaxScaler, LabelEncoder\n",
    "\n",
    "from mlxtend.plotting import plot_sequential_feature_selection as psfs\n",
    "from matplotlib.ticker import MaxNLocator\n"
   ]
  },
  {
   "attachments": {},
   "cell_type": "markdown",
   "metadata": {},
   "source": [
    "## 2. LOADING THE DATASET"
   ]
  },
  {
   "cell_type": "code",
   "execution_count": 2,
   "metadata": {},
   "outputs": [
    {
     "name": "stdout",
     "output_type": "stream",
     "text": [
      "(5110, 12)\n"
     ]
    },
    {
     "data": {
      "text/html": [
       "<div>\n",
       "<style scoped>\n",
       "    .dataframe tbody tr th:only-of-type {\n",
       "        vertical-align: middle;\n",
       "    }\n",
       "\n",
       "    .dataframe tbody tr th {\n",
       "        vertical-align: top;\n",
       "    }\n",
       "\n",
       "    .dataframe thead th {\n",
       "        text-align: right;\n",
       "    }\n",
       "</style>\n",
       "<table border=\"1\" class=\"dataframe\">\n",
       "  <thead>\n",
       "    <tr style=\"text-align: right;\">\n",
       "      <th></th>\n",
       "      <th>id</th>\n",
       "      <th>gender</th>\n",
       "      <th>age</th>\n",
       "      <th>hypertension</th>\n",
       "      <th>heart_disease</th>\n",
       "      <th>ever_married</th>\n",
       "      <th>work_type</th>\n",
       "      <th>Residence_type</th>\n",
       "      <th>avg_glucose_level</th>\n",
       "      <th>bmi</th>\n",
       "      <th>smoking_status</th>\n",
       "      <th>stroke</th>\n",
       "    </tr>\n",
       "  </thead>\n",
       "  <tbody>\n",
       "    <tr>\n",
       "      <th>0</th>\n",
       "      <td>9046</td>\n",
       "      <td>Male</td>\n",
       "      <td>67.0</td>\n",
       "      <td>0</td>\n",
       "      <td>1</td>\n",
       "      <td>Yes</td>\n",
       "      <td>Private</td>\n",
       "      <td>Urban</td>\n",
       "      <td>228.69</td>\n",
       "      <td>36.6</td>\n",
       "      <td>formerly smoked</td>\n",
       "      <td>1</td>\n",
       "    </tr>\n",
       "    <tr>\n",
       "      <th>1</th>\n",
       "      <td>51676</td>\n",
       "      <td>Female</td>\n",
       "      <td>61.0</td>\n",
       "      <td>0</td>\n",
       "      <td>0</td>\n",
       "      <td>Yes</td>\n",
       "      <td>Self-employed</td>\n",
       "      <td>Rural</td>\n",
       "      <td>202.21</td>\n",
       "      <td>NaN</td>\n",
       "      <td>never smoked</td>\n",
       "      <td>1</td>\n",
       "    </tr>\n",
       "    <tr>\n",
       "      <th>2</th>\n",
       "      <td>31112</td>\n",
       "      <td>Male</td>\n",
       "      <td>80.0</td>\n",
       "      <td>0</td>\n",
       "      <td>1</td>\n",
       "      <td>Yes</td>\n",
       "      <td>Private</td>\n",
       "      <td>Rural</td>\n",
       "      <td>105.92</td>\n",
       "      <td>32.5</td>\n",
       "      <td>never smoked</td>\n",
       "      <td>1</td>\n",
       "    </tr>\n",
       "    <tr>\n",
       "      <th>3</th>\n",
       "      <td>60182</td>\n",
       "      <td>Female</td>\n",
       "      <td>49.0</td>\n",
       "      <td>0</td>\n",
       "      <td>0</td>\n",
       "      <td>Yes</td>\n",
       "      <td>Private</td>\n",
       "      <td>Urban</td>\n",
       "      <td>171.23</td>\n",
       "      <td>34.4</td>\n",
       "      <td>smokes</td>\n",
       "      <td>1</td>\n",
       "    </tr>\n",
       "    <tr>\n",
       "      <th>4</th>\n",
       "      <td>1665</td>\n",
       "      <td>Female</td>\n",
       "      <td>79.0</td>\n",
       "      <td>1</td>\n",
       "      <td>0</td>\n",
       "      <td>Yes</td>\n",
       "      <td>Self-employed</td>\n",
       "      <td>Rural</td>\n",
       "      <td>174.12</td>\n",
       "      <td>24.0</td>\n",
       "      <td>never smoked</td>\n",
       "      <td>1</td>\n",
       "    </tr>\n",
       "  </tbody>\n",
       "</table>\n",
       "</div>"
      ],
      "text/plain": [
       "      id  gender   age  hypertension  heart_disease ever_married  \\\n",
       "0   9046    Male  67.0             0              1          Yes   \n",
       "1  51676  Female  61.0             0              0          Yes   \n",
       "2  31112    Male  80.0             0              1          Yes   \n",
       "3  60182  Female  49.0             0              0          Yes   \n",
       "4   1665  Female  79.0             1              0          Yes   \n",
       "\n",
       "       work_type Residence_type  avg_glucose_level   bmi   smoking_status  \\\n",
       "0        Private          Urban             228.69  36.6  formerly smoked   \n",
       "1  Self-employed          Rural             202.21   NaN     never smoked   \n",
       "2        Private          Rural             105.92  32.5     never smoked   \n",
       "3        Private          Urban             171.23  34.4           smokes   \n",
       "4  Self-employed          Rural             174.12  24.0     never smoked   \n",
       "\n",
       "   stroke  \n",
       "0       1  \n",
       "1       1  \n",
       "2       1  \n",
       "3       1  \n",
       "4       1  "
      ]
     },
     "execution_count": 2,
     "metadata": {},
     "output_type": "execute_result"
    }
   ],
   "source": [
    "data = pd.read_csv('stroke prediction.csv')\n",
    "# printing the shape of the data\n",
    "print(data.shape)\n",
    "# printing the first five rows\n",
    "data.head()"
   ]
  },
  {
   "cell_type": "code",
   "execution_count": 3,
   "metadata": {},
   "outputs": [
    {
     "data": {
      "text/plain": [
       "0    4861\n",
       "1     249\n",
       "Name: stroke, dtype: int64"
      ]
     },
     "execution_count": 3,
     "metadata": {},
     "output_type": "execute_result"
    }
   ],
   "source": [
    "data.stroke.value_counts()"
   ]
  },
  {
   "attachments": {},
   "cell_type": "markdown",
   "metadata": {},
   "source": [
    "The dataset is imbalanced and I might need to balance it. This will however happen the next notebook.\n",
    "\n",
    "## 3. DATA PREPARATION\n",
    "\n",
    "1. Handling outliers in the avg_glucose_level and bmi columns and replacing the `missing values in the bmi column using the mean`\n",
    "2. Using OneHotEncoding and LabelEncoder to convert categorical columns into numerical format.\n",
    "2. Extract the data from the dataframe into numpy arrays\n",
    "3. Split into train and test splits\n",
    "4. Apply MinMaxScaler to normalize the data"
   ]
  },
  {
   "cell_type": "code",
   "execution_count": 4,
   "metadata": {},
   "outputs": [],
   "source": [
    "# Replacing the empty cells using the mean.\n",
    "data['bmi'].fillna(data['bmi'].mean(), inplace=True)\n",
    "\n",
    "# handling the outliers in the avg_glucose_level and bmi columns\n",
    "\n",
    "# The code below replaces any values > 43 and < 12 with the mean of the BMI column. \n",
    "\n",
    "data['bmi'] = np.where(\n",
    "    data['bmi'] > 43,\n",
    "    data['bmi'].mean(),\n",
    "    np.where(\n",
    "        data['bmi'] < 12,\n",
    "        data['bmi'].mean(),\n",
    "        data['bmi']\n",
    "    )\n",
    ")\n",
    "\n",
    "# Calculating the average for mean and mode of the avg_glucose_level column.\n",
    "\n",
    "avg = (data['avg_glucose_level'].mean() + data['avg_glucose_level'].mode())/2\n",
    "\n",
    "# Replacing all values greater than 170 in the avg_glucose_level with the average for mean and mode of the column.\n",
    "\n",
    "data['avg_glucose_level'] = np.where(\n",
    "    data['avg_glucose_level'] > 170,\n",
    "    avg,\n",
    "    data['avg_glucose_level']\n",
    ")"
   ]
  },
  {
   "cell_type": "code",
   "execution_count": 5,
   "metadata": {},
   "outputs": [],
   "source": [
    "# dropping the 'Other' gender from the gender column.\n",
    "\n",
    "data.drop(data.loc[data['gender']=='Other'].index, inplace=True)\n",
    "\n",
    "# dropping the never_worked work_type category.\n",
    "data.drop(data.loc[data['work_type']=='Never_worked'].index, inplace=True)"
   ]
  },
  {
   "cell_type": "code",
   "execution_count": 6,
   "metadata": {},
   "outputs": [
    {
     "data": {
      "text/html": [
       "<div>\n",
       "<style scoped>\n",
       "    .dataframe tbody tr th:only-of-type {\n",
       "        vertical-align: middle;\n",
       "    }\n",
       "\n",
       "    .dataframe tbody tr th {\n",
       "        vertical-align: top;\n",
       "    }\n",
       "\n",
       "    .dataframe thead th {\n",
       "        text-align: right;\n",
       "    }\n",
       "</style>\n",
       "<table border=\"1\" class=\"dataframe\">\n",
       "  <thead>\n",
       "    <tr style=\"text-align: right;\">\n",
       "      <th></th>\n",
       "      <th>id</th>\n",
       "      <th>gender</th>\n",
       "      <th>age</th>\n",
       "      <th>hypertension</th>\n",
       "      <th>heart_disease</th>\n",
       "      <th>ever_married</th>\n",
       "      <th>work_type</th>\n",
       "      <th>Residence_type</th>\n",
       "      <th>avg_glucose_level</th>\n",
       "      <th>bmi</th>\n",
       "      <th>smoking_status</th>\n",
       "      <th>stroke</th>\n",
       "    </tr>\n",
       "  </thead>\n",
       "  <tbody>\n",
       "    <tr>\n",
       "      <th>0</th>\n",
       "      <td>9046</td>\n",
       "      <td>1</td>\n",
       "      <td>67.0</td>\n",
       "      <td>0</td>\n",
       "      <td>1</td>\n",
       "      <td>1</td>\n",
       "      <td>Private</td>\n",
       "      <td>1</td>\n",
       "      <td>100.013839</td>\n",
       "      <td>36.600000</td>\n",
       "      <td>formerly smoked</td>\n",
       "      <td>1</td>\n",
       "    </tr>\n",
       "    <tr>\n",
       "      <th>1</th>\n",
       "      <td>51676</td>\n",
       "      <td>0</td>\n",
       "      <td>61.0</td>\n",
       "      <td>0</td>\n",
       "      <td>0</td>\n",
       "      <td>1</td>\n",
       "      <td>Self-employed</td>\n",
       "      <td>0</td>\n",
       "      <td>100.013839</td>\n",
       "      <td>28.893237</td>\n",
       "      <td>never smoked</td>\n",
       "      <td>1</td>\n",
       "    </tr>\n",
       "    <tr>\n",
       "      <th>2</th>\n",
       "      <td>31112</td>\n",
       "      <td>1</td>\n",
       "      <td>80.0</td>\n",
       "      <td>0</td>\n",
       "      <td>1</td>\n",
       "      <td>1</td>\n",
       "      <td>Private</td>\n",
       "      <td>0</td>\n",
       "      <td>105.920000</td>\n",
       "      <td>32.500000</td>\n",
       "      <td>never smoked</td>\n",
       "      <td>1</td>\n",
       "    </tr>\n",
       "    <tr>\n",
       "      <th>3</th>\n",
       "      <td>60182</td>\n",
       "      <td>0</td>\n",
       "      <td>49.0</td>\n",
       "      <td>0</td>\n",
       "      <td>0</td>\n",
       "      <td>1</td>\n",
       "      <td>Private</td>\n",
       "      <td>1</td>\n",
       "      <td>100.013839</td>\n",
       "      <td>34.400000</td>\n",
       "      <td>smokes</td>\n",
       "      <td>1</td>\n",
       "    </tr>\n",
       "    <tr>\n",
       "      <th>4</th>\n",
       "      <td>1665</td>\n",
       "      <td>0</td>\n",
       "      <td>79.0</td>\n",
       "      <td>1</td>\n",
       "      <td>0</td>\n",
       "      <td>1</td>\n",
       "      <td>Self-employed</td>\n",
       "      <td>0</td>\n",
       "      <td>100.013839</td>\n",
       "      <td>24.000000</td>\n",
       "      <td>never smoked</td>\n",
       "      <td>1</td>\n",
       "    </tr>\n",
       "  </tbody>\n",
       "</table>\n",
       "</div>"
      ],
      "text/plain": [
       "      id  gender   age  hypertension  heart_disease  ever_married  \\\n",
       "0   9046       1  67.0             0              1             1   \n",
       "1  51676       0  61.0             0              0             1   \n",
       "2  31112       1  80.0             0              1             1   \n",
       "3  60182       0  49.0             0              0             1   \n",
       "4   1665       0  79.0             1              0             1   \n",
       "\n",
       "       work_type  Residence_type  avg_glucose_level        bmi  \\\n",
       "0        Private               1         100.013839  36.600000   \n",
       "1  Self-employed               0         100.013839  28.893237   \n",
       "2        Private               0         105.920000  32.500000   \n",
       "3        Private               1         100.013839  34.400000   \n",
       "4  Self-employed               0         100.013839  24.000000   \n",
       "\n",
       "    smoking_status  stroke  \n",
       "0  formerly smoked       1  \n",
       "1     never smoked       1  \n",
       "2     never smoked       1  \n",
       "3           smokes       1  \n",
       "4     never smoked       1  "
      ]
     },
     "execution_count": 6,
     "metadata": {},
     "output_type": "execute_result"
    }
   ],
   "source": [
    "# Using LabelEncoder in ['gender', 'ever_married' 'Residence_type'] columns to convert them to numerical format.\n",
    "\n",
    "c = ['gender', 'ever_married', 'Residence_type']\n",
    "\n",
    "le= LabelEncoder()\n",
    "\n",
    "for k in c:\n",
    "    if k in data.columns:\n",
    "        data[k] = le.fit_transform(data[k])\n",
    "\n",
    "data.head()"
   ]
  },
  {
   "cell_type": "code",
   "execution_count": 7,
   "metadata": {},
   "outputs": [
    {
     "data": {
      "text/html": [
       "<div>\n",
       "<style scoped>\n",
       "    .dataframe tbody tr th:only-of-type {\n",
       "        vertical-align: middle;\n",
       "    }\n",
       "\n",
       "    .dataframe tbody tr th {\n",
       "        vertical-align: top;\n",
       "    }\n",
       "\n",
       "    .dataframe thead th {\n",
       "        text-align: right;\n",
       "    }\n",
       "</style>\n",
       "<table border=\"1\" class=\"dataframe\">\n",
       "  <thead>\n",
       "    <tr style=\"text-align: right;\">\n",
       "      <th></th>\n",
       "      <th>Govt_job</th>\n",
       "      <th>Private</th>\n",
       "      <th>Self-employed</th>\n",
       "      <th>children</th>\n",
       "      <th>age</th>\n",
       "      <th>gender</th>\n",
       "      <th>hypertension</th>\n",
       "      <th>heart_disease</th>\n",
       "      <th>ever_married</th>\n",
       "      <th>Residence_type</th>\n",
       "      <th>avg_glucose_level</th>\n",
       "      <th>bmi</th>\n",
       "      <th>Unknown</th>\n",
       "      <th>formerly smoked</th>\n",
       "      <th>never smoked</th>\n",
       "      <th>smokes</th>\n",
       "      <th>stroke</th>\n",
       "    </tr>\n",
       "  </thead>\n",
       "  <tbody>\n",
       "    <tr>\n",
       "      <th>0</th>\n",
       "      <td>0</td>\n",
       "      <td>1</td>\n",
       "      <td>0</td>\n",
       "      <td>0</td>\n",
       "      <td>67.0</td>\n",
       "      <td>1</td>\n",
       "      <td>0</td>\n",
       "      <td>1</td>\n",
       "      <td>1</td>\n",
       "      <td>1</td>\n",
       "      <td>100.013839</td>\n",
       "      <td>36.600000</td>\n",
       "      <td>0</td>\n",
       "      <td>1</td>\n",
       "      <td>0</td>\n",
       "      <td>0</td>\n",
       "      <td>1</td>\n",
       "    </tr>\n",
       "    <tr>\n",
       "      <th>1</th>\n",
       "      <td>0</td>\n",
       "      <td>0</td>\n",
       "      <td>1</td>\n",
       "      <td>0</td>\n",
       "      <td>61.0</td>\n",
       "      <td>0</td>\n",
       "      <td>0</td>\n",
       "      <td>0</td>\n",
       "      <td>1</td>\n",
       "      <td>0</td>\n",
       "      <td>100.013839</td>\n",
       "      <td>28.893237</td>\n",
       "      <td>0</td>\n",
       "      <td>0</td>\n",
       "      <td>1</td>\n",
       "      <td>0</td>\n",
       "      <td>1</td>\n",
       "    </tr>\n",
       "    <tr>\n",
       "      <th>2</th>\n",
       "      <td>0</td>\n",
       "      <td>1</td>\n",
       "      <td>0</td>\n",
       "      <td>0</td>\n",
       "      <td>80.0</td>\n",
       "      <td>1</td>\n",
       "      <td>0</td>\n",
       "      <td>1</td>\n",
       "      <td>1</td>\n",
       "      <td>0</td>\n",
       "      <td>105.920000</td>\n",
       "      <td>32.500000</td>\n",
       "      <td>0</td>\n",
       "      <td>0</td>\n",
       "      <td>1</td>\n",
       "      <td>0</td>\n",
       "      <td>1</td>\n",
       "    </tr>\n",
       "    <tr>\n",
       "      <th>3</th>\n",
       "      <td>0</td>\n",
       "      <td>1</td>\n",
       "      <td>0</td>\n",
       "      <td>0</td>\n",
       "      <td>49.0</td>\n",
       "      <td>0</td>\n",
       "      <td>0</td>\n",
       "      <td>0</td>\n",
       "      <td>1</td>\n",
       "      <td>1</td>\n",
       "      <td>100.013839</td>\n",
       "      <td>34.400000</td>\n",
       "      <td>0</td>\n",
       "      <td>0</td>\n",
       "      <td>0</td>\n",
       "      <td>1</td>\n",
       "      <td>1</td>\n",
       "    </tr>\n",
       "    <tr>\n",
       "      <th>4</th>\n",
       "      <td>0</td>\n",
       "      <td>0</td>\n",
       "      <td>1</td>\n",
       "      <td>0</td>\n",
       "      <td>79.0</td>\n",
       "      <td>0</td>\n",
       "      <td>1</td>\n",
       "      <td>0</td>\n",
       "      <td>1</td>\n",
       "      <td>0</td>\n",
       "      <td>100.013839</td>\n",
       "      <td>24.000000</td>\n",
       "      <td>0</td>\n",
       "      <td>0</td>\n",
       "      <td>1</td>\n",
       "      <td>0</td>\n",
       "      <td>1</td>\n",
       "    </tr>\n",
       "  </tbody>\n",
       "</table>\n",
       "</div>"
      ],
      "text/plain": [
       "   Govt_job  Private  Self-employed  children   age  gender  hypertension  \\\n",
       "0         0        1              0         0  67.0       1             0   \n",
       "1         0        0              1         0  61.0       0             0   \n",
       "2         0        1              0         0  80.0       1             0   \n",
       "3         0        1              0         0  49.0       0             0   \n",
       "4         0        0              1         0  79.0       0             1   \n",
       "\n",
       "   heart_disease  ever_married  Residence_type  avg_glucose_level        bmi  \\\n",
       "0              1             1               1         100.013839  36.600000   \n",
       "1              0             1               0         100.013839  28.893237   \n",
       "2              1             1               0         105.920000  32.500000   \n",
       "3              0             1               1         100.013839  34.400000   \n",
       "4              0             1               0         100.013839  24.000000   \n",
       "\n",
       "   Unknown  formerly smoked  never smoked  smokes  stroke  \n",
       "0        0                1             0       0       1  \n",
       "1        0                0             1       0       1  \n",
       "2        0                0             1       0       1  \n",
       "3        0                0             0       1       1  \n",
       "4        0                0             1       0       1  "
      ]
     },
     "execution_count": 7,
     "metadata": {},
     "output_type": "execute_result"
    }
   ],
   "source": [
    "# using oneHotEncoding to convert ['work_type' , 'smoking_status'] to numerical format.\n",
    "\n",
    "data = pd.get_dummies(data.work_type)\\\n",
    "        .join(data['age'])\\\n",
    "        .join(data['gender'])\\\n",
    "        .join(data['hypertension'])\\\n",
    "        .join(data['heart_disease'])\\\n",
    "        .join(data['ever_married'])\\\n",
    "        .join(data['Residence_type'])\\\n",
    "        .join(data['avg_glucose_level'])\\\n",
    "        .join(data['bmi'])\\\n",
    "        .join(pd.get_dummies(data['smoking_status']))\\\n",
    "        .join(data['stroke'])\n",
    "\n",
    "data.head()"
   ]
  },
  {
   "cell_type": "code",
   "execution_count": 8,
   "metadata": {},
   "outputs": [
    {
     "data": {
      "text/plain": [
       "(5087, 17)"
      ]
     },
     "execution_count": 8,
     "metadata": {},
     "output_type": "execute_result"
    }
   ],
   "source": [
    "data.shape"
   ]
  },
  {
   "attachments": {},
   "cell_type": "markdown",
   "metadata": {},
   "source": [
    "After converting the categorical columns into numerical format, I ended up with `17` columns, compared to the `12` originally."
   ]
  },
  {
   "cell_type": "code",
   "execution_count": 9,
   "metadata": {},
   "outputs": [
    {
     "data": {
      "text/plain": [
       "((2543, 16), (2544, 16))"
      ]
     },
     "execution_count": 9,
     "metadata": {},
     "output_type": "execute_result"
    }
   ],
   "source": [
    "X = data.drop(['stroke'], axis=1)\n",
    "y = data['stroke']\n",
    "\n",
    "# splitting to training and testing sets.\n",
    "X_train_rw, X_test_rw, y_train, y_test = train_test_split(X,y, train_size=0.5,stratify=y, random_state=0)\n",
    "\n",
    "scaler =MinMaxScaler()\n",
    "X_train = scaler.fit_transform(X_train_rw)\n",
    "X_test = scaler.transform(X_test_rw)\n",
    "# assigning the number of features to a variable\n",
    "max_k = X_train.shape[1]\n",
    "X_train.shape, X_test.shape\n"
   ]
  },
  {
   "attachments": {},
   "cell_type": "markdown",
   "metadata": {},
   "source": [
    "## 4.BASELINE EVALUATION\n",
    "\n",
    "Using all the features and *k-NN*:\n",
    "* test the perfomance on training data using cross-validation\n",
    "* test the perfomance on the test data using the hold-out"
   ]
  },
  {
   "cell_type": "code",
   "execution_count": 10,
   "metadata": {},
   "outputs": [
    {
     "name": "stdout",
     "output_type": "stream",
     "text": [
      "X_val on training all features:  0.942\n",
      "Hold Out testing all features:  0.942\n"
     ]
    }
   ],
   "source": [
    "kNN = KNeighborsClassifier(n_neighbors=3)\n",
    "kNN.fit(X_train, y_train)\n",
    "pred = kNN.predict(X_test)\n",
    "acc = accuracy_score(pred, y_test)\n",
    "cv_acc = cross_val_score(kNN, X_train, y_train, cv=6)\n",
    "\n",
    "print('X_val on training all features: {0: .3f}'.format(cv_acc.mean()))\n",
    "print('Hold Out testing all features: {0: .3f}'.format(acc))"
   ]
  },
  {
   "attachments": {},
   "cell_type": "markdown",
   "metadata": {},
   "source": [
    "## 5. SEQUENTIAL FORWARD SELECTION"
   ]
  },
  {
   "cell_type": "code",
   "execution_count": 11,
   "metadata": {},
   "outputs": [],
   "source": [
    "x = 0\n",
    "\n",
    "sfs_forward = sfs(kNN,\n",
    "                  k_features=(1,max_k),\n",
    "                  forward=True,\n",
    "                  floating=False,\n",
    "                  verbose=x,\n",
    "                  scoring='accuracy',\n",
    "                  cv=10, n_jobs=-1)\n",
    "\n",
    "sfs_forward = sfs_forward.fit(X_train, y_train)"
   ]
  },
  {
   "cell_type": "code",
   "execution_count": 12,
   "metadata": {},
   "outputs": [
    {
     "data": {
      "text/plain": [
       "(0,)"
      ]
     },
     "execution_count": 12,
     "metadata": {},
     "output_type": "execute_result"
    }
   ],
   "source": [
    "# The indexes of the best performing subset\n",
    "\n",
    "sfs_forward.k_feature_idx_"
   ]
  },
  {
   "cell_type": "code",
   "execution_count": 13,
   "metadata": {},
   "outputs": [
    {
     "data": {
      "text/plain": [
       "('0',)"
      ]
     },
     "execution_count": 13,
     "metadata": {},
     "output_type": "execute_result"
    }
   ],
   "source": [
    "sfs_forward.k_feature_names_"
   ]
  },
  {
   "cell_type": "code",
   "execution_count": 14,
   "metadata": {},
   "outputs": [
    {
     "data": {
      "image/png": "[encoded data removed]",
      "text/plain": [
       "<Figure size 640x480 with 1 Axes>"
      ]
     },
     "metadata": {},
     "output_type": "display_data"
    },
    {
     "name": "stdout",
     "output_type": "stream",
     "text": [
      "('0',)\n"
     ]
    }
   ],
   "source": [
    "fig1 = psfs(sfs_forward.get_metric_dict(),\n",
    "            ylabel='TRAINING ACURACY',\n",
    "            kind='std_dev')\n",
    "\n",
    "plt.ylim([0.5,1])\n",
    "plt.title('SEQUENTIAL FORWARD SELECTION')\n",
    "plt.grid()\n",
    "plt.show()\n",
    "print(sfs_forward.k_feature_names_)"
   ]
  },
  {
   "attachments": {},
   "cell_type": "markdown",
   "metadata": {},
   "source": [
    "From the graph above, it is evident that the accuracy remains constant for all features and drops slightly from (`14-17`) features."
   ]
  },
  {
   "attachments": {},
   "cell_type": "markdown",
   "metadata": {},
   "source": [
    "`TRANSFORMING THE DATASET USING THE SELECTED FEATURES`"
   ]
  },
  {
   "cell_type": "code",
   "execution_count": 15,
   "metadata": {},
   "outputs": [
    {
     "name": "stdout",
     "output_type": "stream",
     "text": [
      "X_train Shape:  (2543, 1)\n",
      "X_val on SFS all features: 0.951\n",
      "Hold Out Testing:  1 features selected using SFS: 0.951\n"
     ]
    }
   ],
   "source": [
    "X_train_sfs = sfs_forward.transform(X_train)\n",
    "X_test_sfs = sfs_forward.transform(X_test)\n",
    "\n",
    "kNN_sfs = kNN.fit(X_train_sfs, y_train)\n",
    "pred = kNN.predict(X_test_sfs)\n",
    "acc_SFS = accuracy_score(pred, y_test)\n",
    "cv_acc_SFS = cross_val_score(kNN, X_train_sfs,y_train, cv=10)\n",
    "\n",
    "print('X_train Shape: ', X_train_sfs.shape)\n",
    "print('X_val on SFS all features: {0:.3f}'.format(cv_acc_SFS.mean()))\n",
    "print('Hold Out Testing: {0:2d} features selected using SFS: {1:.3f}'.format(len(sfs_forward.k_feature_idx_), acc_SFS))"
   ]
  },
  {
   "attachments": {},
   "cell_type": "markdown",
   "metadata": {},
   "source": [
    "## 6. BACKWARD ELIMINATION\n",
    "\n",
    "Done by setting the SFS `forward` parameter to `False`"
   ]
  },
  {
   "cell_type": "code",
   "execution_count": 16,
   "metadata": {},
   "outputs": [],
   "source": [
    "sfs_backward = sfs(kNN, \n",
    "                   k_features=(1,max_k),\n",
    "                   forward=False,\n",
    "                   floating=False, \n",
    "                   verbose=x,\n",
    "                   scoring='accuracy',\n",
    "                   cv=10, n_jobs=-1)\n",
    "\n",
    "\n",
    "sfs_backward = sfs_backward.fit(X_train, y_train)"
   ]
  },
  {
   "cell_type": "code",
   "execution_count": 17,
   "metadata": {},
   "outputs": [
    {
     "data": {
      "image/png": "[encoded data removed]",
      "text/plain": [
       "<Figure size 640x480 with 1 Axes>"
      ]
     },
     "metadata": {},
     "output_type": "display_data"
    },
    {
     "name": "stdout",
     "output_type": "stream",
     "text": [
      "('5', '9')\n"
     ]
    }
   ],
   "source": [
    "fig = psfs(sfs_backward.get_metric_dict(),\n",
    "           ylabel='accuracy',\n",
    "           kind='std_dev')\n",
    "\n",
    "plt.ylim([0.5,1])\n",
    "plt.title('BACKWARD ELIMINATION')\n",
    "plt.grid()\n",
    "plt.show()\n",
    "print(sfs_backward.k_feature_names_)"
   ]
  },
  {
   "attachments": {},
   "cell_type": "markdown",
   "metadata": {},
   "source": [
    "`TRANSFORMING THE DATASET USING THE SELECTED COLUMNS`"
   ]
  },
  {
   "cell_type": "code",
   "execution_count": 18,
   "metadata": {},
   "outputs": [
    {
     "name": "stdout",
     "output_type": "stream",
     "text": [
      "X_train shape: (2543, 2)\n",
      "X_val on BE all features:  0.951\n",
      "Hold Out testing:  2 features selected using BE: 0.951\n"
     ]
    }
   ],
   "source": [
    "X_train_be = sfs_backward.transform(X_train)\n",
    "X_test_be = sfs_backward.transform(X_test)\n",
    "\n",
    "kNN_be = kNN.fit(X_train_be, y_train)\n",
    "pred = kNN_be.predict(X_test_be)\n",
    "acc_BE = accuracy_score(pred, y_test)\n",
    "cv_acc_BE = cross_val_score(kNN, X_train_be, y_train, cv=10)\n",
    "\n",
    "print(f'X_train shape: {X_train_be.shape}')\n",
    "print('X_val on BE all features: {0: .3f}'.format(cv_acc_BE.mean()))\n",
    "print('Hold Out testing: {0:2d} features selected using BE: {1:.3F}'.format(len(sfs_backward.k_feature_idx_), acc_BE))"
   ]
  },
  {
   "attachments": {},
   "cell_type": "markdown",
   "metadata": {},
   "source": [
    "There isn't any significant change in accuracy for bothe the SFS and BE."
   ]
  },
  {
   "attachments": {},
   "cell_type": "markdown",
   "metadata": {},
   "source": [
    "# PLOTTING THE OVERALL RESULTS"
   ]
  },
  {
   "cell_type": "code",
   "execution_count": 19,
   "metadata": {},
   "outputs": [
    {
     "data": {
      "image/png": "[encoded data removed]",
      "text/plain": [
       "<Figure size 640x480 with 2 Axes>"
      ]
     },
     "metadata": {},
     "output_type": "display_data"
    }
   ],
   "source": [
    "fig, ax = plt.subplots()\n",
    "width = 0.2\n",
    "\n",
    "options = ['ALL', 'SFS', 'BE']\n",
    "n_feat = [X_train.shape[1], X_train_sfs.shape[1], X_train_be.shape[1]]\n",
    "accs = [acc, acc_SFS, acc_BE]\n",
    "xv = [cv_acc.mean(), cv_acc_SFS.mean(), cv_acc_BE.mean()]\n",
    "\n",
    "y_pos = np.arange(len(options))\n",
    "\n",
    "p1 = ax.bar(y_pos-width/2, xv, width, align='center', label='TRAIN (X_val)',\n",
    "            color=['blue', 'blue', 'blue'], alpha=0.5)\n",
    "\n",
    "p2 = ax.bar(y_pos+width/2, accs, width, align='center', label='TEST (HOLD OUT)',\n",
    "            color = ['g', 'g', 'g'], alpha=0.5)\n",
    "\n",
    "ax.set_ylim([0.7,1])\n",
    "ax2 = ax.twinx()\n",
    "\n",
    "p3 = ax2.plot([0,1,2], n_feat, color = 'red', label = 'Feature Count',\n",
    "              marker = 'x', ms = 10, linewidth=0)\n",
    "\n",
    "ax2.set_ylim([0, 20])\n",
    "\n",
    "ax.grid(axis='y')\n",
    "\n",
    "h1, l1 = ax.get_legend_handles_labels()\n",
    "h2, l2 = ax2.get_legend_handles_labels()\n",
    "ax2.legend(h1+h2, l1+l2, loc='lower right')\n",
    "\n",
    "ax2.yaxis.set_major_locator(MaxNLocator(integer=True))\n",
    "\n",
    "plt.xticks(y_pos, options)\n",
    "ax.set_ylabel('ACCURACY')\n",
    "ax2.set_ylabel('FEATURE COUNT')\n",
    "\n",
    "plt.show()"
   ]
  },
  {
   "cell_type": "code",
   "execution_count": 20,
   "metadata": {},
   "outputs": [
    {
     "name": "stdout",
     "output_type": "stream",
     "text": [
      "              precision    recall  f1-score   support\n",
      "\n",
      "           0       1.00      0.95      0.97      2544\n",
      "           1       0.00      0.00      0.00         0\n",
      "\n",
      "    accuracy                           0.95      2544\n",
      "   macro avg       0.50      0.48      0.49      2544\n",
      "weighted avg       1.00      0.95      0.97      2544\n",
      "\n"
     ]
    },
    {
     "name": "stderr",
     "output_type": "stream",
     "text": [
      "C:\\Users\\muhum\\AppData\\Roaming\\Python\\Python311\\site-packages\\sklearn\\metrics\\_classification.py:1344: UndefinedMetricWarning: Recall and F-score are ill-defined and being set to 0.0 in labels with no true samples. Use `zero_division` parameter to control this behavior.\n",
      "  _warn_prf(average, modifier, msg_start, len(result))\n",
      "C:\\Users\\muhum\\AppData\\Roaming\\Python\\Python311\\site-packages\\sklearn\\metrics\\_classification.py:1344: UndefinedMetricWarning: Recall and F-score are ill-defined and being set to 0.0 in labels with no true samples. Use `zero_division` parameter to control this behavior.\n",
      "  _warn_prf(average, modifier, msg_start, len(result))\n",
      "C:\\Users\\muhum\\AppData\\Roaming\\Python\\Python311\\site-packages\\sklearn\\metrics\\_classification.py:1344: UndefinedMetricWarning: Recall and F-score are ill-defined and being set to 0.0 in labels with no true samples. Use `zero_division` parameter to control this behavior.\n",
      "  _warn_prf(average, modifier, msg_start, len(result))\n"
     ]
    }
   ],
   "source": [
    "print(classification_report(pred, y_test))"
   ]
  },
  {
   "cell_type": "code",
   "execution_count": null,
   "metadata": {},
   "outputs": [],
   "source": []
  }
 ],
 "metadata": {
  "kernelspec": {
   "display_name": "Python 3",
   "language": "python",
   "name": "python3"
  },
  "language_info": {
   "codemirror_mode": {
    "name": "ipython",
    "version": 3
   },
   "file_extension": ".py",
   "mimetype": "text/x-python",
   "name": "python",
   "nbconvert_exporter": "python",
   "pygments_lexer": "ipython3",
   "version": "3.11.1"
  },
  "orig_nbformat": 4
 },
 "nbformat": 4,
 "nbformat_minor": 2
}
