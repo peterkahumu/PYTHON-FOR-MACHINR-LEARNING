{
 "cells": [
  {
   "cell_type": "code",
   "execution_count": null,
   "metadata": {},
   "outputs": [
    {
     "name": "stdout",
     "output_type": "stream",
     "text": [
      "**************************************************\n",
      "Welcome to the MCQ test\n",
      "**************************************************\n",
      "\n",
      "Q1. What is the value of the expresion 2*3-4?\n",
      "(a) 1\n",
      "(b) 2\n",
      "(c) 3\n",
      "(d) none of the above\n"
     ]
    }
   ],
   "source": [
    "print('*'*50)\n",
    "print('Welcome to the MCQ test')\n",
    "print('*'*50)\n",
    "question1 = ('\\nQ1. What is the value of the expresion 2*3-4?'\\\n",
    "        '\\n(a) 1'\\\n",
    "        '\\n(b) 2'\\\n",
    "        '\\n(c) 3'\n",
    "        '\\n(d) none of the above')\n",
    "question2 = ('\\nQ2. Who is the third president of Kenya?'\\\n",
    "            '\\n(a) Jomo Kenyatta'\\\n",
    "            '\\n(b) William Ruto'\\\n",
    "            '\\n(c) Daniel Moi'\\\n",
    "            '\\n(d) Mwai Kibaki')\n",
    "question3 = ('\\nQ3. Which of the following is not a datatype in Python'\\\n",
    "            '\\n(a) Integer'\\\n",
    "            '\\n(b) Float'\\\n",
    "            '\\n(c) Number'\\\n",
    "            '\\n(d) Strings')\n",
    "\n",
    "score = 0\n",
    "\n",
    "answers  = {\n",
    "    question1:'b',\n",
    "    question2: 'd',\n",
    "    question3: 'c'\n",
    "}\n",
    "\n",
    "for key in answers:\n",
    "    print(key)\n",
    "    ans = input('Pleaser Enter the correct Answer: ')\n",
    "    if ans == answers[key]:\n",
    "        score += 1\n",
    "\n",
    "if score<=2:\n",
    "    remarks = 'FAIL!! PLEASE TRY AGAIN'\n",
    "else:\n",
    "    remarks = 'PASS!! GOOD WORK'\n",
    "\n",
    "print('*'*50)\n",
    "print(f'REMARKS: {remarks}')\n",
    "print(f'You scored {score} out of {len(answers)}')\n",
    "print('*'*50)"
   ]
  },
  {
   "cell_type": "code",
   "execution_count": null,
   "metadata": {},
   "outputs": [],
   "source": []
  }
 ],
 "metadata": {
  "kernelspec": {
   "display_name": "Python 3 (ipykernel)",
   "language": "python",
   "name": "python3"
  },
  "language_info": {
   "codemirror_mode": {
    "name": "ipython",
    "version": 3
   },
   "file_extension": ".py",
   "mimetype": "text/x-python",
   "name": "python",
   "nbconvert_exporter": "python",
   "pygments_lexer": "ipython3",
   "version": "3.9.13"
  }
 },
 "nbformat": 4,
 "nbformat_minor": 2
}
